{
 "cells": [
  {
   "cell_type": "code",
   "execution_count": 8,
   "metadata": {},
   "outputs": [],
   "source": [
    "import json\n",
    "from joblib import load\n",
    "from pathlib import Path\n",
    "\n",
    "from config import Config\n",
    "from tools.tester import calc_eer\n",
    "from tools.dataset_loader import get_data, get_stat_features"
   ]
  },
  {
   "cell_type": "markdown",
   "metadata": {},
   "source": [
    "## Load precomputed stat. features and labels"
   ]
  },
  {
   "cell_type": "code",
   "execution_count": 9,
   "metadata": {},
   "outputs": [
    {
     "name": "stderr",
     "output_type": "stream",
     "text": [
      "  0%|          | 0/3 [00:00<?, ?it/s]"
     ]
    },
    {
     "name": "stdout",
     "output_type": "stream",
     "text": [
      "Train shape: (25380, 780)\n",
      "Dev shape: (24844, 780)\n",
      "Eval shape: (71237, 780)\n",
      "Loading ASVspoof 2019 LA testing protocols...\n"
     ]
    },
    {
     "name": "stderr",
     "output_type": "stream",
     "text": [
      "100%|██████████| 3/3 [00:00<00:00,  7.03it/s]\n"
     ]
    }
   ],
   "source": [
    "assert Path('data/train').exists() and\\\n",
    "       Path('data/dev').exists() and\\\n",
    "       Path('data/val').exists(), 'Download precomputed features'\n",
    "\n",
    "with open('configs/included_features.json', 'r') as config:\n",
    "    included_features = json.load(config)\n",
    "    \n",
    "save_path = Path('data')\n",
    "*_, val_x = get_stat_features(path=save_path, included_features=included_features)\n",
    "*_, (_, val_y) = get_data(dataset_path=Config.dataset_path, protocol_paths=Config.protocols_paths)"
   ]
  },
  {
   "cell_type": "markdown",
   "metadata": {},
   "source": [
    "## Load pretrained models"
   ]
  },
  {
   "cell_type": "code",
   "execution_count": 10,
   "metadata": {},
   "outputs": [],
   "source": [
    "assert Path('pretrained_models/random_forest_train_dev').exists() and\\\n",
    "       Path('pretrained_models/cat_boost_train_dev').exists() and\\\n",
    "       Path('pretrained_models/light_gbm_train_dev').exists(), 'Download pretrained models'\n",
    "\n",
    "rf = load('pretrained_models/random_forest_train_dev')\n",
    "cb = load('pretrained_models/cat_boost_train_dev')\n",
    "lgbm = load('pretrained_models/light_gbm_train_dev')"
   ]
  },
  {
   "cell_type": "markdown",
   "metadata": {},
   "source": [
    "## Evaluate EER on the validation set"
   ]
  },
  {
   "cell_type": "code",
   "execution_count": 11,
   "metadata": {},
   "outputs": [
    {
     "name": "stdout",
     "output_type": "stream",
     "text": [
      "Random forest\n",
      "Validation EER: 9.55\n",
      "Threshold: 0.37\n",
      "\n",
      "CatBoost\n",
      "Validation EER: 4.21\n",
      "Threshold: 0.34\n",
      "\n",
      "Light GBM\n",
      "Validation EER: 3.93\n",
      "Threshold: 0.34\n",
      "\n"
     ]
    }
   ],
   "source": [
    "for clf, clf_name in zip([rf, cb, lgbm], ['Random forest', 'CatBoost', 'Light GBM']):\n",
    "    pred_proba = clf.predict_proba(val_x).T[1]\n",
    "    eer, threshold = calc_eer(val_y, pred_proba)\n",
    "    print(f'{clf_name}\\nValidation EER: {round(eer, 2)}\\nThreshold: {round(threshold, 2)}\\n')"
   ]
  },
  {
   "cell_type": "code",
   "execution_count": null,
   "metadata": {},
   "outputs": [],
   "source": []
  }
 ],
 "metadata": {
  "kernelspec": {
   "display_name": "Python 3",
   "language": "python",
   "name": "python3"
  },
  "language_info": {
   "codemirror_mode": {
    "name": "ipython",
    "version": 3
   },
   "file_extension": ".py",
   "mimetype": "text/x-python",
   "name": "python",
   "nbconvert_exporter": "python",
   "pygments_lexer": "ipython3",
   "version": "3.7.5"
  }
 },
 "nbformat": 4,
 "nbformat_minor": 4
}
